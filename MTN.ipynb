{
 "cells": [
  {
   "cell_type": "markdown",
   "id": "dcfe3af4",
   "metadata": {},
   "source": [
    "#### Importing pandas"
   ]
  },
  {
   "cell_type": "code",
   "execution_count": 1,
   "id": "05d193a5",
   "metadata": {},
   "outputs": [],
   "source": [
    "import pandas as pd\n",
    "import numpy as np"
   ]
  },
  {
   "cell_type": "markdown",
   "id": "dfb808ec",
   "metadata": {},
   "source": [
    "#### Importing the data"
   ]
  },
  {
   "cell_type": "code",
   "execution_count": 2,
   "id": "34f7b38c",
   "metadata": {},
   "outputs": [],
   "source": [
    "geo=pd.read_csv(r\"C:\\Users\\nyang\\Downloads\\cells_geo.csv\")\n",
    "day1=pd.read_csv(r\"C:\\Users\\nyang\\Downloads\\Telcom_dataset.csv\")\n",
    "day2=pd.read_csv(r\"C:\\Users\\nyang\\Downloads\\Telcom_dataset2.csv\")\n",
    "day3=pd.read_csv(r\"C:\\Users\\nyang\\Downloads\\Telcom_dataset3.csv\")\n",
    "geo_description=pd.read_excel(r\"C:\\Users\\nyang\\Downloads\\cells_geo_description.xlsx\")\n",
    "CDR_description=pd.read_excel(r\"C:\\Users\\nyang\\Downloads\\CDR_description.xlsx\")"
   ]
  },
  {
   "cell_type": "markdown",
   "id": "6f6625e5",
   "metadata": {},
   "source": [
    "#### Exploring the datasets\n",
    "\n",
    "##### 1. Geo"
   ]
  },
  {
   "cell_type": "code",
   "execution_count": 3,
   "id": "1a3d1665",
   "metadata": {
    "scrolled": false
   },
   "outputs": [
    {
     "data": {
      "text/html": [
       "<div>\n",
       "<style scoped>\n",
       "    .dataframe tbody tr th:only-of-type {\n",
       "        vertical-align: middle;\n",
       "    }\n",
       "\n",
       "    .dataframe tbody tr th {\n",
       "        vertical-align: top;\n",
       "    }\n",
       "\n",
       "    .dataframe thead th {\n",
       "        text-align: right;\n",
       "    }\n",
       "</style>\n",
       "<table border=\"1\" class=\"dataframe\">\n",
       "  <thead>\n",
       "    <tr style=\"text-align: right;\">\n",
       "      <th></th>\n",
       "      <th>;VILLES;STATUS;LOCALISATION;DECOUPZONE;ZONENAME;LONGITUDE;LATITUDE;REGION;AREA;CELL_ID;SITE_CODE</th>\n",
       "    </tr>\n",
       "  </thead>\n",
       "  <tbody>\n",
       "    <tr>\n",
       "      <th>0</th>\n",
       "      <td>0;ADJAME;In Service;ABIDJAN;\"\"\"Abidjan_EST\";AG...</td>\n",
       "    </tr>\n",
       "    <tr>\n",
       "      <th>1</th>\n",
       "      <td>1;ADJAME;In Service;ABIDJAN;\"\"\"Abidjan_EST\";AG...</td>\n",
       "    </tr>\n",
       "    <tr>\n",
       "      <th>2</th>\n",
       "      <td>2;ADJAME;In Service;ABIDJAN;\"\"\"Abidjan_EST\";AG...</td>\n",
       "    </tr>\n",
       "    <tr>\n",
       "      <th>3</th>\n",
       "      <td>3;ASSINIE;In Service;INTERIEUR;Grand-EST;\"ASSI...</td>\n",
       "    </tr>\n",
       "    <tr>\n",
       "      <th>4</th>\n",
       "      <td>4;ASSINIE;In Service;INTERIEUR;Grand-EST;\"ASSI...</td>\n",
       "    </tr>\n",
       "  </tbody>\n",
       "</table>\n",
       "</div>"
      ],
      "text/plain": [
       "  ;VILLES;STATUS;LOCALISATION;DECOUPZONE;ZONENAME;LONGITUDE;LATITUDE;REGION;AREA;CELL_ID;SITE_CODE\n",
       "0  0;ADJAME;In Service;ABIDJAN;\"\"\"Abidjan_EST\";AG...                                              \n",
       "1  1;ADJAME;In Service;ABIDJAN;\"\"\"Abidjan_EST\";AG...                                              \n",
       "2  2;ADJAME;In Service;ABIDJAN;\"\"\"Abidjan_EST\";AG...                                              \n",
       "3  3;ASSINIE;In Service;INTERIEUR;Grand-EST;\"ASSI...                                              \n",
       "4  4;ASSINIE;In Service;INTERIEUR;Grand-EST;\"ASSI...                                              "
      ]
     },
     "execution_count": 3,
     "metadata": {},
     "output_type": "execute_result"
    }
   ],
   "source": [
    "geo.head()"
   ]
  },
  {
   "cell_type": "markdown",
   "id": "bf9337fe",
   "metadata": {},
   "source": [
    "**Separating the columns**"
   ]
  },
  {
   "cell_type": "code",
   "execution_count": 4,
   "id": "b891f65b",
   "metadata": {},
   "outputs": [],
   "source": [
    "geo=geo[\";VILLES;STATUS;LOCALISATION;DECOUPZONE;ZONENAME;LONGITUDE;LATITUDE;REGION;AREA;CELL_ID;SITE_CODE\"].str.split(';',\n",
    "                                                                                                                      expand=True)"
   ]
  },
  {
   "cell_type": "code",
   "execution_count": 5,
   "id": "0f6d8674",
   "metadata": {
    "scrolled": true
   },
   "outputs": [
    {
     "data": {
      "text/html": [
       "<div>\n",
       "<style scoped>\n",
       "    .dataframe tbody tr th:only-of-type {\n",
       "        vertical-align: middle;\n",
       "    }\n",
       "\n",
       "    .dataframe tbody tr th {\n",
       "        vertical-align: top;\n",
       "    }\n",
       "\n",
       "    .dataframe thead th {\n",
       "        text-align: right;\n",
       "    }\n",
       "</style>\n",
       "<table border=\"1\" class=\"dataframe\">\n",
       "  <thead>\n",
       "    <tr style=\"text-align: right;\">\n",
       "      <th></th>\n",
       "      <th>0</th>\n",
       "      <th>1</th>\n",
       "      <th>2</th>\n",
       "      <th>3</th>\n",
       "      <th>4</th>\n",
       "      <th>5</th>\n",
       "      <th>6</th>\n",
       "      <th>7</th>\n",
       "      <th>8</th>\n",
       "      <th>9</th>\n",
       "      <th>10</th>\n",
       "      <th>11</th>\n",
       "    </tr>\n",
       "  </thead>\n",
       "  <tbody>\n",
       "    <tr>\n",
       "      <th>0</th>\n",
       "      <td>0</td>\n",
       "      <td>ADJAME</td>\n",
       "      <td>In Service</td>\n",
       "      <td>ABIDJAN</td>\n",
       "      <td>\"\"\"Abidjan_EST\"</td>\n",
       "      <td>AGBANNEW</td>\n",
       "      <td>-4.00066666666667</td>\n",
       "      <td>5.36819444444444</td>\n",
       "      <td>LAGUNE</td>\n",
       "      <td></td>\n",
       "      <td>fbb2e75af3</td>\n",
       "      <td>0bb492ef17</td>\n",
       "    </tr>\n",
       "    <tr>\n",
       "      <th>1</th>\n",
       "      <td>1</td>\n",
       "      <td>ADJAME</td>\n",
       "      <td>In Service</td>\n",
       "      <td>ABIDJAN</td>\n",
       "      <td>\"\"\"Abidjan_EST\"</td>\n",
       "      <td>AGBANNEW</td>\n",
       "      <td>-4.00066666666667</td>\n",
       "      <td>5.36819444444444</td>\n",
       "      <td>LAGUNE</td>\n",
       "      <td></td>\n",
       "      <td>1502501d78</td>\n",
       "      <td>0bb492ef17</td>\n",
       "    </tr>\n",
       "    <tr>\n",
       "      <th>2</th>\n",
       "      <td>2</td>\n",
       "      <td>ADJAME</td>\n",
       "      <td>In Service</td>\n",
       "      <td>ABIDJAN</td>\n",
       "      <td>\"\"\"Abidjan_EST\"</td>\n",
       "      <td>AGBANNEW</td>\n",
       "      <td>-4.00066666666667</td>\n",
       "      <td>5.36819444444444</td>\n",
       "      <td>LAGUNE</td>\n",
       "      <td></td>\n",
       "      <td>0c2e182a0c</td>\n",
       "      <td>0bb492ef17</td>\n",
       "    </tr>\n",
       "    <tr>\n",
       "      <th>3</th>\n",
       "      <td>3</td>\n",
       "      <td>ASSINIE</td>\n",
       "      <td>In Service</td>\n",
       "      <td>INTERIEUR</td>\n",
       "      <td>Grand-EST</td>\n",
       "      <td>\"ASSINIE\"\"\"</td>\n",
       "      <td>-3.48846666666667</td>\n",
       "      <td>5.15876111111111</td>\n",
       "      <td>SUD COMOE</td>\n",
       "      <td></td>\n",
       "      <td>69bdfc69fd</td>\n",
       "      <td>8a1e6ce31f</td>\n",
       "    </tr>\n",
       "    <tr>\n",
       "      <th>4</th>\n",
       "      <td>4</td>\n",
       "      <td>ASSINIE</td>\n",
       "      <td>In Service</td>\n",
       "      <td>INTERIEUR</td>\n",
       "      <td>Grand-EST</td>\n",
       "      <td>\"ASSINIE\"\"\"</td>\n",
       "      <td>-3.48846666666667</td>\n",
       "      <td>5.15876111111111</td>\n",
       "      <td>SUD COMOE</td>\n",
       "      <td></td>\n",
       "      <td>7a1029d2ab</td>\n",
       "      <td>8a1e6ce31f</td>\n",
       "    </tr>\n",
       "  </tbody>\n",
       "</table>\n",
       "</div>"
      ],
      "text/plain": [
       "  0        1           2          3                4            5   \\\n",
       "0  0   ADJAME  In Service    ABIDJAN  \"\"\"Abidjan_EST\"     AGBANNEW   \n",
       "1  1   ADJAME  In Service    ABIDJAN  \"\"\"Abidjan_EST\"     AGBANNEW   \n",
       "2  2   ADJAME  In Service    ABIDJAN  \"\"\"Abidjan_EST\"     AGBANNEW   \n",
       "3  3  ASSINIE  In Service  INTERIEUR        Grand-EST  \"ASSINIE\"\"\"   \n",
       "4  4  ASSINIE  In Service  INTERIEUR        Grand-EST  \"ASSINIE\"\"\"   \n",
       "\n",
       "                  6                 7          8  9           10          11  \n",
       "0  -4.00066666666667  5.36819444444444     LAGUNE     fbb2e75af3  0bb492ef17  \n",
       "1  -4.00066666666667  5.36819444444444     LAGUNE     1502501d78  0bb492ef17  \n",
       "2  -4.00066666666667  5.36819444444444     LAGUNE     0c2e182a0c  0bb492ef17  \n",
       "3  -3.48846666666667  5.15876111111111  SUD COMOE     69bdfc69fd  8a1e6ce31f  \n",
       "4  -3.48846666666667  5.15876111111111  SUD COMOE     7a1029d2ab  8a1e6ce31f  "
      ]
     },
     "execution_count": 5,
     "metadata": {},
     "output_type": "execute_result"
    }
   ],
   "source": [
    "geo.head()"
   ]
  },
  {
   "cell_type": "markdown",
   "id": "36431b74",
   "metadata": {},
   "source": [
    "**Renaming the columns correctly**"
   ]
  },
  {
   "cell_type": "code",
   "execution_count": 6,
   "id": "eb74841b",
   "metadata": {},
   "outputs": [],
   "source": [
    "geo=geo.rename(columns={1:\"VILLES\",\n",
    "                    2:\"STATUS\",\n",
    "                    3:\"LOCALISATION\",\n",
    "                    4:\"DECOUPZONE\",\n",
    "                    5:\"ZONENAME\",\n",
    "                    6:\"LONGITUDE\",\n",
    "                    7:\"LATITUDE\",\n",
    "                    8:\"REGION\",\n",
    "                    9:\"AREA\",\n",
    "                    10:\"CELL_ID\",\n",
    "                    11:\"SITE_CODE\"\n",
    "                  })"
   ]
  },
  {
   "cell_type": "code",
   "execution_count": 7,
   "id": "6ec332b9",
   "metadata": {},
   "outputs": [],
   "source": [
    "geo.drop(0,inplace=True, axis=1)"
   ]
  },
  {
   "cell_type": "code",
   "execution_count": 8,
   "id": "df909a0a",
   "metadata": {},
   "outputs": [
    {
     "data": {
      "text/html": [
       "<div>\n",
       "<style scoped>\n",
       "    .dataframe tbody tr th:only-of-type {\n",
       "        vertical-align: middle;\n",
       "    }\n",
       "\n",
       "    .dataframe tbody tr th {\n",
       "        vertical-align: top;\n",
       "    }\n",
       "\n",
       "    .dataframe thead th {\n",
       "        text-align: right;\n",
       "    }\n",
       "</style>\n",
       "<table border=\"1\" class=\"dataframe\">\n",
       "  <thead>\n",
       "    <tr style=\"text-align: right;\">\n",
       "      <th></th>\n",
       "      <th>VILLES</th>\n",
       "      <th>STATUS</th>\n",
       "      <th>LOCALISATION</th>\n",
       "      <th>DECOUPZONE</th>\n",
       "      <th>ZONENAME</th>\n",
       "      <th>LONGITUDE</th>\n",
       "      <th>LATITUDE</th>\n",
       "      <th>REGION</th>\n",
       "      <th>AREA</th>\n",
       "      <th>CELL_ID</th>\n",
       "      <th>SITE_CODE</th>\n",
       "    </tr>\n",
       "  </thead>\n",
       "  <tbody>\n",
       "    <tr>\n",
       "      <th>0</th>\n",
       "      <td>ADJAME</td>\n",
       "      <td>In Service</td>\n",
       "      <td>ABIDJAN</td>\n",
       "      <td>\"\"\"Abidjan_EST\"</td>\n",
       "      <td>AGBANNEW</td>\n",
       "      <td>-4.00066666666667</td>\n",
       "      <td>5.36819444444444</td>\n",
       "      <td>LAGUNE</td>\n",
       "      <td></td>\n",
       "      <td>fbb2e75af3</td>\n",
       "      <td>0bb492ef17</td>\n",
       "    </tr>\n",
       "    <tr>\n",
       "      <th>1</th>\n",
       "      <td>ADJAME</td>\n",
       "      <td>In Service</td>\n",
       "      <td>ABIDJAN</td>\n",
       "      <td>\"\"\"Abidjan_EST\"</td>\n",
       "      <td>AGBANNEW</td>\n",
       "      <td>-4.00066666666667</td>\n",
       "      <td>5.36819444444444</td>\n",
       "      <td>LAGUNE</td>\n",
       "      <td></td>\n",
       "      <td>1502501d78</td>\n",
       "      <td>0bb492ef17</td>\n",
       "    </tr>\n",
       "    <tr>\n",
       "      <th>2</th>\n",
       "      <td>ADJAME</td>\n",
       "      <td>In Service</td>\n",
       "      <td>ABIDJAN</td>\n",
       "      <td>\"\"\"Abidjan_EST\"</td>\n",
       "      <td>AGBANNEW</td>\n",
       "      <td>-4.00066666666667</td>\n",
       "      <td>5.36819444444444</td>\n",
       "      <td>LAGUNE</td>\n",
       "      <td></td>\n",
       "      <td>0c2e182a0c</td>\n",
       "      <td>0bb492ef17</td>\n",
       "    </tr>\n",
       "    <tr>\n",
       "      <th>3</th>\n",
       "      <td>ASSINIE</td>\n",
       "      <td>In Service</td>\n",
       "      <td>INTERIEUR</td>\n",
       "      <td>Grand-EST</td>\n",
       "      <td>\"ASSINIE\"\"\"</td>\n",
       "      <td>-3.48846666666667</td>\n",
       "      <td>5.15876111111111</td>\n",
       "      <td>SUD COMOE</td>\n",
       "      <td></td>\n",
       "      <td>69bdfc69fd</td>\n",
       "      <td>8a1e6ce31f</td>\n",
       "    </tr>\n",
       "    <tr>\n",
       "      <th>4</th>\n",
       "      <td>ASSINIE</td>\n",
       "      <td>In Service</td>\n",
       "      <td>INTERIEUR</td>\n",
       "      <td>Grand-EST</td>\n",
       "      <td>\"ASSINIE\"\"\"</td>\n",
       "      <td>-3.48846666666667</td>\n",
       "      <td>5.15876111111111</td>\n",
       "      <td>SUD COMOE</td>\n",
       "      <td></td>\n",
       "      <td>7a1029d2ab</td>\n",
       "      <td>8a1e6ce31f</td>\n",
       "    </tr>\n",
       "  </tbody>\n",
       "</table>\n",
       "</div>"
      ],
      "text/plain": [
       "    VILLES      STATUS LOCALISATION       DECOUPZONE     ZONENAME  \\\n",
       "0   ADJAME  In Service      ABIDJAN  \"\"\"Abidjan_EST\"     AGBANNEW   \n",
       "1   ADJAME  In Service      ABIDJAN  \"\"\"Abidjan_EST\"     AGBANNEW   \n",
       "2   ADJAME  In Service      ABIDJAN  \"\"\"Abidjan_EST\"     AGBANNEW   \n",
       "3  ASSINIE  In Service    INTERIEUR        Grand-EST  \"ASSINIE\"\"\"   \n",
       "4  ASSINIE  In Service    INTERIEUR        Grand-EST  \"ASSINIE\"\"\"   \n",
       "\n",
       "           LONGITUDE          LATITUDE     REGION AREA     CELL_ID   SITE_CODE  \n",
       "0  -4.00066666666667  5.36819444444444     LAGUNE       fbb2e75af3  0bb492ef17  \n",
       "1  -4.00066666666667  5.36819444444444     LAGUNE       1502501d78  0bb492ef17  \n",
       "2  -4.00066666666667  5.36819444444444     LAGUNE       0c2e182a0c  0bb492ef17  \n",
       "3  -3.48846666666667  5.15876111111111  SUD COMOE       69bdfc69fd  8a1e6ce31f  \n",
       "4  -3.48846666666667  5.15876111111111  SUD COMOE       7a1029d2ab  8a1e6ce31f  "
      ]
     },
     "execution_count": 8,
     "metadata": {},
     "output_type": "execute_result"
    }
   ],
   "source": [
    "geo.head()"
   ]
  },
  {
   "cell_type": "markdown",
   "id": "4216d6f5",
   "metadata": {},
   "source": [
    "**Summary of the Geo data**"
   ]
  },
  {
   "cell_type": "code",
   "execution_count": 9,
   "id": "5f7ec1c6",
   "metadata": {},
   "outputs": [
    {
     "data": {
      "text/html": [
       "<div>\n",
       "<style scoped>\n",
       "    .dataframe tbody tr th:only-of-type {\n",
       "        vertical-align: middle;\n",
       "    }\n",
       "\n",
       "    .dataframe tbody tr th {\n",
       "        vertical-align: top;\n",
       "    }\n",
       "\n",
       "    .dataframe thead th {\n",
       "        text-align: right;\n",
       "    }\n",
       "</style>\n",
       "<table border=\"1\" class=\"dataframe\">\n",
       "  <thead>\n",
       "    <tr style=\"text-align: right;\">\n",
       "      <th></th>\n",
       "      <th>Column name</th>\n",
       "      <th>Description</th>\n",
       "      <th>Format</th>\n",
       "    </tr>\n",
       "  </thead>\n",
       "  <tbody>\n",
       "    <tr>\n",
       "      <th>0</th>\n",
       "      <td>VILLES</td>\n",
       "      <td>City</td>\n",
       "      <td>String</td>\n",
       "    </tr>\n",
       "    <tr>\n",
       "      <th>1</th>\n",
       "      <td>STATUS</td>\n",
       "      <td>In Service or not</td>\n",
       "      <td>String</td>\n",
       "    </tr>\n",
       "    <tr>\n",
       "      <th>2</th>\n",
       "      <td>LOCALISATION</td>\n",
       "      <td>in ABIDJAN or not</td>\n",
       "      <td>String</td>\n",
       "    </tr>\n",
       "    <tr>\n",
       "      <th>3</th>\n",
       "      <td>DECOUPZONE</td>\n",
       "      <td>Geographical Zone</td>\n",
       "      <td>String</td>\n",
       "    </tr>\n",
       "    <tr>\n",
       "      <th>4</th>\n",
       "      <td>ZONENAME</td>\n",
       "      <td>Name of Zone</td>\n",
       "      <td>String</td>\n",
       "    </tr>\n",
       "    <tr>\n",
       "      <th>5</th>\n",
       "      <td>LONGITUDE</td>\n",
       "      <td>Longitude</td>\n",
       "      <td>Float</td>\n",
       "    </tr>\n",
       "    <tr>\n",
       "      <th>6</th>\n",
       "      <td>LATITUDE</td>\n",
       "      <td>Latitude</td>\n",
       "      <td>Float</td>\n",
       "    </tr>\n",
       "    <tr>\n",
       "      <th>7</th>\n",
       "      <td>REGION</td>\n",
       "      <td>Region</td>\n",
       "      <td>String</td>\n",
       "    </tr>\n",
       "    <tr>\n",
       "      <th>8</th>\n",
       "      <td>AREA</td>\n",
       "      <td>Area</td>\n",
       "      <td>String</td>\n",
       "    </tr>\n",
       "    <tr>\n",
       "      <th>9</th>\n",
       "      <td>CELL_ID</td>\n",
       "      <td>ID of the cell</td>\n",
       "      <td>String</td>\n",
       "    </tr>\n",
       "    <tr>\n",
       "      <th>10</th>\n",
       "      <td>SITE_CODE</td>\n",
       "      <td>Site (there are several cells per site, severa...</td>\n",
       "      <td>String</td>\n",
       "    </tr>\n",
       "  </tbody>\n",
       "</table>\n",
       "</div>"
      ],
      "text/plain": [
       "     Column name                                        Description  Format\n",
       "0         VILLES                                               City  String\n",
       "1         STATUS                                  In Service or not  String\n",
       "2   LOCALISATION                                  in ABIDJAN or not  String\n",
       "3     DECOUPZONE                                  Geographical Zone  String\n",
       "4       ZONENAME                                       Name of Zone  String\n",
       "5      LONGITUDE                                          Longitude   Float\n",
       "6       LATITUDE                                           Latitude   Float\n",
       "7         REGION                                             Region  String\n",
       "8           AREA                                               Area  String\n",
       "9        CELL_ID                                     ID of the cell  String\n",
       "10     SITE_CODE  Site (there are several cells per site, severa...  String"
      ]
     },
     "execution_count": 9,
     "metadata": {},
     "output_type": "execute_result"
    }
   ],
   "source": [
    "geo_description"
   ]
  },
  {
   "cell_type": "code",
   "execution_count": 10,
   "id": "c81b0ef3",
   "metadata": {
    "scrolled": false
   },
   "outputs": [
    {
     "data": {
      "text/html": [
       "<div>\n",
       "<style scoped>\n",
       "    .dataframe tbody tr th:only-of-type {\n",
       "        vertical-align: middle;\n",
       "    }\n",
       "\n",
       "    .dataframe tbody tr th {\n",
       "        vertical-align: top;\n",
       "    }\n",
       "\n",
       "    .dataframe thead th {\n",
       "        text-align: right;\n",
       "    }\n",
       "</style>\n",
       "<table border=\"1\" class=\"dataframe\">\n",
       "  <thead>\n",
       "    <tr style=\"text-align: right;\">\n",
       "      <th></th>\n",
       "      <th>VILLES</th>\n",
       "      <th>STATUS</th>\n",
       "      <th>LOCALISATION</th>\n",
       "      <th>DECOUPZONE</th>\n",
       "      <th>ZONENAME</th>\n",
       "      <th>LONGITUDE</th>\n",
       "      <th>LATITUDE</th>\n",
       "      <th>REGION</th>\n",
       "      <th>AREA</th>\n",
       "      <th>CELL_ID</th>\n",
       "      <th>SITE_CODE</th>\n",
       "    </tr>\n",
       "  </thead>\n",
       "  <tbody>\n",
       "    <tr>\n",
       "      <th>count</th>\n",
       "      <td>3974</td>\n",
       "      <td>3974</td>\n",
       "      <td>3974</td>\n",
       "      <td>3974</td>\n",
       "      <td>3974</td>\n",
       "      <td>3974</td>\n",
       "      <td>3974</td>\n",
       "      <td>3974</td>\n",
       "      <td>3974</td>\n",
       "      <td>3974</td>\n",
       "      <td>3974</td>\n",
       "    </tr>\n",
       "    <tr>\n",
       "      <th>unique</th>\n",
       "      <td>504</td>\n",
       "      <td>2</td>\n",
       "      <td>2</td>\n",
       "      <td>15</td>\n",
       "      <td>34</td>\n",
       "      <td>1013</td>\n",
       "      <td>1025</td>\n",
       "      <td>19</td>\n",
       "      <td>7</td>\n",
       "      <td>3916</td>\n",
       "      <td>1029</td>\n",
       "    </tr>\n",
       "    <tr>\n",
       "      <th>top</th>\n",
       "      <td>COCODY</td>\n",
       "      <td>In Service</td>\n",
       "      <td>INTERIEUR</td>\n",
       "      <td>Grand-OUEST</td>\n",
       "      <td>ZONE D - Grand-OUEST</td>\n",
       "      <td>-6.45038888888889</td>\n",
       "      <td>5.37363888888889</td>\n",
       "      <td>LAGUNE</td>\n",
       "      <td>ABIDJAN NORTH</td>\n",
       "      <td>6750e0fb7b</td>\n",
       "      <td>20387d4292</td>\n",
       "    </tr>\n",
       "    <tr>\n",
       "      <th>freq</th>\n",
       "      <td>354</td>\n",
       "      <td>3907</td>\n",
       "      <td>2305</td>\n",
       "      <td>528</td>\n",
       "      <td>527</td>\n",
       "      <td>12</td>\n",
       "      <td>12</td>\n",
       "      <td>1850</td>\n",
       "      <td>1222</td>\n",
       "      <td>39</td>\n",
       "      <td>42</td>\n",
       "    </tr>\n",
       "  </tbody>\n",
       "</table>\n",
       "</div>"
      ],
      "text/plain": [
       "        VILLES      STATUS LOCALISATION   DECOUPZONE              ZONENAME  \\\n",
       "count     3974        3974         3974         3974                  3974   \n",
       "unique     504           2            2           15                    34   \n",
       "top     COCODY  In Service    INTERIEUR  Grand-OUEST  ZONE D - Grand-OUEST   \n",
       "freq       354        3907         2305          528                   527   \n",
       "\n",
       "                LONGITUDE          LATITUDE  REGION           AREA  \\\n",
       "count                3974              3974    3974           3974   \n",
       "unique               1013              1025      19              7   \n",
       "top     -6.45038888888889  5.37363888888889  LAGUNE  ABIDJAN NORTH   \n",
       "freq                   12                12    1850           1222   \n",
       "\n",
       "           CELL_ID   SITE_CODE  \n",
       "count         3974        3974  \n",
       "unique        3916        1029  \n",
       "top     6750e0fb7b  20387d4292  \n",
       "freq            39          42  "
      ]
     },
     "execution_count": 10,
     "metadata": {},
     "output_type": "execute_result"
    }
   ],
   "source": [
    "geo.describe(include=\"all\")"
   ]
  },
  {
   "cell_type": "code",
   "execution_count": 11,
   "id": "bf7ca67f",
   "metadata": {
    "scrolled": true
   },
   "outputs": [
    {
     "name": "stdout",
     "output_type": "stream",
     "text": [
      "<class 'pandas.core.frame.DataFrame'>\n",
      "RangeIndex: 3974 entries, 0 to 3973\n",
      "Data columns (total 11 columns):\n",
      " #   Column        Non-Null Count  Dtype \n",
      "---  ------        --------------  ----- \n",
      " 0   VILLES        3974 non-null   object\n",
      " 1   STATUS        3974 non-null   object\n",
      " 2   LOCALISATION  3974 non-null   object\n",
      " 3   DECOUPZONE    3974 non-null   object\n",
      " 4   ZONENAME      3974 non-null   object\n",
      " 5   LONGITUDE     3974 non-null   object\n",
      " 6   LATITUDE      3974 non-null   object\n",
      " 7   REGION        3974 non-null   object\n",
      " 8   AREA          3974 non-null   object\n",
      " 9   CELL_ID       3974 non-null   object\n",
      " 10  SITE_CODE     3974 non-null   object\n",
      "dtypes: object(11)\n",
      "memory usage: 341.6+ KB\n"
     ]
    }
   ],
   "source": [
    "geo.info()"
   ]
  },
  {
   "cell_type": "markdown",
   "id": "f935b79f",
   "metadata": {},
   "source": [
    "- There are no null values because every row is in string format"
   ]
  },
  {
   "cell_type": "code",
   "execution_count": 12,
   "id": "68cedccb",
   "metadata": {},
   "outputs": [
    {
     "data": {
      "text/plain": [
       "array(['\"\"\"Abidjan_EST\"', 'Grand-EST', 'Grand-OUEST', '\"\"\"Abidjan_NORD\"',\n",
       "       '\"\"\"Abidjan_CENTRE\"', 'Abidjan_NORD', 'Abidjan_EST',\n",
       "       'Abidjan_OUEST', 'Grand-SUD', 'SUD-OUEST', 'Abidjan_CENTRE',\n",
       "       'Abidjan_SUD', 'Grand-NORD', 'Gd-ABIDJAN', '0'], dtype=object)"
      ]
     },
     "execution_count": 12,
     "metadata": {},
     "output_type": "execute_result"
    }
   ],
   "source": [
    "geo[\"DECOUPZONE\"].unique()"
   ]
  },
  {
   "cell_type": "code",
   "execution_count": 13,
   "id": "268c3882",
   "metadata": {},
   "outputs": [],
   "source": [
    "geo.replace('\"\"\"Abidjan_EST\"', \"Abidjan_EST\",inplace=True)\n",
    "geo.replace('\"\"\"Abidjan_CENTRE\"', \"Abidjan_CENTRE\",inplace=True)\n",
    "geo.replace('\"\"\"Abidjan_NORD\"', \"Abidjan_NORD\",inplace=True)"
   ]
  },
  {
   "cell_type": "code",
   "execution_count": 14,
   "id": "a5507e29",
   "metadata": {},
   "outputs": [
    {
     "data": {
      "text/html": [
       "<div>\n",
       "<style scoped>\n",
       "    .dataframe tbody tr th:only-of-type {\n",
       "        vertical-align: middle;\n",
       "    }\n",
       "\n",
       "    .dataframe tbody tr th {\n",
       "        vertical-align: top;\n",
       "    }\n",
       "\n",
       "    .dataframe thead th {\n",
       "        text-align: right;\n",
       "    }\n",
       "</style>\n",
       "<table border=\"1\" class=\"dataframe\">\n",
       "  <thead>\n",
       "    <tr style=\"text-align: right;\">\n",
       "      <th></th>\n",
       "      <th>VILLES</th>\n",
       "      <th>STATUS</th>\n",
       "      <th>LOCALISATION</th>\n",
       "      <th>DECOUPZONE</th>\n",
       "      <th>ZONENAME</th>\n",
       "      <th>LONGITUDE</th>\n",
       "      <th>LATITUDE</th>\n",
       "      <th>REGION</th>\n",
       "      <th>AREA</th>\n",
       "      <th>CELL_ID</th>\n",
       "      <th>SITE_CODE</th>\n",
       "    </tr>\n",
       "  </thead>\n",
       "  <tbody>\n",
       "    <tr>\n",
       "      <th>count</th>\n",
       "      <td>3974</td>\n",
       "      <td>3974</td>\n",
       "      <td>3974</td>\n",
       "      <td>3974</td>\n",
       "      <td>3974</td>\n",
       "      <td>3974</td>\n",
       "      <td>3974</td>\n",
       "      <td>3974</td>\n",
       "      <td>3974</td>\n",
       "      <td>3974</td>\n",
       "      <td>3974</td>\n",
       "    </tr>\n",
       "    <tr>\n",
       "      <th>unique</th>\n",
       "      <td>504</td>\n",
       "      <td>2</td>\n",
       "      <td>2</td>\n",
       "      <td>12</td>\n",
       "      <td>34</td>\n",
       "      <td>1013</td>\n",
       "      <td>1025</td>\n",
       "      <td>19</td>\n",
       "      <td>7</td>\n",
       "      <td>3916</td>\n",
       "      <td>1029</td>\n",
       "    </tr>\n",
       "    <tr>\n",
       "      <th>top</th>\n",
       "      <td>COCODY</td>\n",
       "      <td>In Service</td>\n",
       "      <td>INTERIEUR</td>\n",
       "      <td>Grand-OUEST</td>\n",
       "      <td>ZONE D - Grand-OUEST</td>\n",
       "      <td>-6.45038888888889</td>\n",
       "      <td>5.37363888888889</td>\n",
       "      <td>LAGUNE</td>\n",
       "      <td>ABIDJAN NORTH</td>\n",
       "      <td>6750e0fb7b</td>\n",
       "      <td>20387d4292</td>\n",
       "    </tr>\n",
       "    <tr>\n",
       "      <th>freq</th>\n",
       "      <td>354</td>\n",
       "      <td>3907</td>\n",
       "      <td>2305</td>\n",
       "      <td>528</td>\n",
       "      <td>527</td>\n",
       "      <td>12</td>\n",
       "      <td>12</td>\n",
       "      <td>1850</td>\n",
       "      <td>1222</td>\n",
       "      <td>39</td>\n",
       "      <td>42</td>\n",
       "    </tr>\n",
       "  </tbody>\n",
       "</table>\n",
       "</div>"
      ],
      "text/plain": [
       "        VILLES      STATUS LOCALISATION   DECOUPZONE              ZONENAME  \\\n",
       "count     3974        3974         3974         3974                  3974   \n",
       "unique     504           2            2           12                    34   \n",
       "top     COCODY  In Service    INTERIEUR  Grand-OUEST  ZONE D - Grand-OUEST   \n",
       "freq       354        3907         2305          528                   527   \n",
       "\n",
       "                LONGITUDE          LATITUDE  REGION           AREA  \\\n",
       "count                3974              3974    3974           3974   \n",
       "unique               1013              1025      19              7   \n",
       "top     -6.45038888888889  5.37363888888889  LAGUNE  ABIDJAN NORTH   \n",
       "freq                   12                12    1850           1222   \n",
       "\n",
       "           CELL_ID   SITE_CODE  \n",
       "count         3974        3974  \n",
       "unique        3916        1029  \n",
       "top     6750e0fb7b  20387d4292  \n",
       "freq            39          42  "
      ]
     },
     "execution_count": 14,
     "metadata": {},
     "output_type": "execute_result"
    }
   ],
   "source": [
    "geo.describe()"
   ]
  },
  {
   "cell_type": "code",
   "execution_count": 15,
   "id": "0b7efbbd",
   "metadata": {},
   "outputs": [],
   "source": [
    "geo.replace('\"ASSINIE\"\"\"', \"ASSINIE\",inplace=True)\n",
    "geo.replace('\"KRIKOREA\"\"\"', \"KRIKOREA\",inplace=True)"
   ]
  },
  {
   "cell_type": "code",
   "execution_count": 16,
   "id": "505e6551",
   "metadata": {},
   "outputs": [
    {
     "data": {
      "text/plain": [
       "array(['In Service', ''], dtype=object)"
      ]
     },
     "execution_count": 16,
     "metadata": {},
     "output_type": "execute_result"
    }
   ],
   "source": [
    "geo[\"STATUS\"].unique()"
   ]
  },
  {
   "cell_type": "code",
   "execution_count": 17,
   "id": "f79866f2",
   "metadata": {},
   "outputs": [],
   "source": [
    "geo[\"STATUS\"].replace(\"\",\"Not In Service\", inplace=True)"
   ]
  },
  {
   "cell_type": "code",
   "execution_count": 18,
   "id": "ee7cca61",
   "metadata": {},
   "outputs": [
    {
     "data": {
      "text/plain": [
       "array(['In Service', 'Not In Service'], dtype=object)"
      ]
     },
     "execution_count": 18,
     "metadata": {},
     "output_type": "execute_result"
    }
   ],
   "source": [
    "geo[\"STATUS\"].unique()"
   ]
  },
  {
   "cell_type": "code",
   "execution_count": 19,
   "id": "67cfec17",
   "metadata": {},
   "outputs": [
    {
     "data": {
      "text/plain": [
       "array(['ABIDJAN', 'INTERIEUR'], dtype=object)"
      ]
     },
     "execution_count": 19,
     "metadata": {},
     "output_type": "execute_result"
    }
   ],
   "source": [
    "geo[\"LOCALISATION\"].unique()"
   ]
  },
  {
   "cell_type": "code",
   "execution_count": 20,
   "id": "b839043c",
   "metadata": {},
   "outputs": [
    {
     "data": {
      "text/plain": [
       "array(['LAGUNE', 'SUD COMOE', 'HAUT SASSANDRA', 'MOYEN COMOE', 'AGNEBY',\n",
       "       'SUD BANDAMA', 'BAS SASSANDRA', 'LACS', 'FROMAGER',\n",
       "       'VALLEE DU BANDAMA', 'NZI COMOE', 'ZANZAN', 'MOYEN CAVALLY',\n",
       "       'WORODOUGOU', 'DENGUELE', '18 MONTAGNES', 'SAVANE', 'MARAHOUE',\n",
       "       'BAFING'], dtype=object)"
      ]
     },
     "execution_count": 20,
     "metadata": {},
     "output_type": "execute_result"
    }
   ],
   "source": [
    "geo[\"REGION\"].unique()"
   ]
  },
  {
   "cell_type": "code",
   "execution_count": 21,
   "id": "de771d8b",
   "metadata": {},
   "outputs": [
    {
     "data": {
      "text/plain": [
       "array(['', 'ABIDJAN NORTH', 'NORTH WEST', 'EAST', 'ABIDJAN SOUTH',\n",
       "       'SOUTH WEST', 'CENTRE NORTH'], dtype=object)"
      ]
     },
     "execution_count": 21,
     "metadata": {},
     "output_type": "execute_result"
    }
   ],
   "source": [
    "geo[\"AREA\"].unique()"
   ]
  },
  {
   "cell_type": "code",
   "execution_count": 22,
   "id": "5ffc6aaa",
   "metadata": {},
   "outputs": [],
   "source": [
    "geo[\"AREA\"].replace('',np.nan,inplace=True)"
   ]
  },
  {
   "cell_type": "code",
   "execution_count": 23,
   "id": "8b519a46",
   "metadata": {},
   "outputs": [
    {
     "data": {
      "text/plain": [
       "array([nan, 'ABIDJAN NORTH', 'NORTH WEST', 'EAST', 'ABIDJAN SOUTH',\n",
       "       'SOUTH WEST', 'CENTRE NORTH'], dtype=object)"
      ]
     },
     "execution_count": 23,
     "metadata": {},
     "output_type": "execute_result"
    }
   ],
   "source": [
    "geo[\"AREA\"].unique()"
   ]
  },
  {
   "cell_type": "code",
   "execution_count": 24,
   "id": "46939c4a",
   "metadata": {},
   "outputs": [],
   "source": [
    "geo[\"LONGITUDE\"]=geo[\"LONGITUDE\"].astype(float)\n",
    "geo[\"LATITUDE\"]=geo[\"LATITUDE\"].astype(float)"
   ]
  },
  {
   "cell_type": "code",
   "execution_count": 25,
   "id": "ebb8b990",
   "metadata": {
    "scrolled": false
   },
   "outputs": [
    {
     "name": "stdout",
     "output_type": "stream",
     "text": [
      "<class 'pandas.core.frame.DataFrame'>\n",
      "RangeIndex: 3974 entries, 0 to 3973\n",
      "Data columns (total 11 columns):\n",
      " #   Column        Non-Null Count  Dtype  \n",
      "---  ------        --------------  -----  \n",
      " 0   VILLES        3974 non-null   object \n",
      " 1   STATUS        3974 non-null   object \n",
      " 2   LOCALISATION  3974 non-null   object \n",
      " 3   DECOUPZONE    3974 non-null   object \n",
      " 4   ZONENAME      3974 non-null   object \n",
      " 5   LONGITUDE     3974 non-null   float64\n",
      " 6   LATITUDE      3974 non-null   float64\n",
      " 7   REGION        3974 non-null   object \n",
      " 8   AREA          3951 non-null   object \n",
      " 9   CELL_ID       3974 non-null   object \n",
      " 10  SITE_CODE     3974 non-null   object \n",
      "dtypes: float64(2), object(9)\n",
      "memory usage: 341.6+ KB\n"
     ]
    }
   ],
   "source": [
    "geo.info()"
   ]
  },
  {
   "cell_type": "markdown",
   "id": "90529820",
   "metadata": {},
   "source": [
    "- Note that there are now null values in the Area column\n",
    "\n",
    "##### 2. Day 1"
   ]
  },
  {
   "cell_type": "code",
   "execution_count": 26,
   "id": "b54217e6",
   "metadata": {
    "scrolled": false
   },
   "outputs": [
    {
     "data": {
      "text/html": [
       "<div>\n",
       "<style scoped>\n",
       "    .dataframe tbody tr th:only-of-type {\n",
       "        vertical-align: middle;\n",
       "    }\n",
       "\n",
       "    .dataframe tbody tr th {\n",
       "        vertical-align: top;\n",
       "    }\n",
       "\n",
       "    .dataframe thead th {\n",
       "        text-align: right;\n",
       "    }\n",
       "</style>\n",
       "<table border=\"1\" class=\"dataframe\">\n",
       "  <thead>\n",
       "    <tr style=\"text-align: right;\">\n",
       "      <th></th>\n",
       "      <th>PRODUTC</th>\n",
       "      <th>VALUE</th>\n",
       "      <th>DATETIME</th>\n",
       "      <th>CELL_ON_SITE</th>\n",
       "      <th>DW_A_NUMBER_INT</th>\n",
       "      <th>DW_B_NUMBER_INT</th>\n",
       "      <th>COUNTRY_A</th>\n",
       "      <th>COUNTRY_B</th>\n",
       "      <th>CELL_ID</th>\n",
       "      <th>SITE_ID</th>\n",
       "    </tr>\n",
       "  </thead>\n",
       "  <tbody>\n",
       "    <tr>\n",
       "      <th>count</th>\n",
       "      <td>5001</td>\n",
       "      <td>5001.000000</td>\n",
       "      <td>5001</td>\n",
       "      <td>5001</td>\n",
       "      <td>5001</td>\n",
       "      <td>5001</td>\n",
       "      <td>5001</td>\n",
       "      <td>5001</td>\n",
       "      <td>5001</td>\n",
       "      <td>4285</td>\n",
       "    </tr>\n",
       "    <tr>\n",
       "      <th>unique</th>\n",
       "      <td>3</td>\n",
       "      <td>NaN</td>\n",
       "      <td>708</td>\n",
       "      <td>7</td>\n",
       "      <td>3903</td>\n",
       "      <td>2848</td>\n",
       "      <td>1</td>\n",
       "      <td>2</td>\n",
       "      <td>1790</td>\n",
       "      <td>1076</td>\n",
       "    </tr>\n",
       "    <tr>\n",
       "      <th>top</th>\n",
       "      <td>Voice</td>\n",
       "      <td>NaN</td>\n",
       "      <td>2012-05-07 00:00:10.0</td>\n",
       "      <td>1</td>\n",
       "      <td>4e49073a756df8c</td>\n",
       "      <td>5a4dc9e82deb309</td>\n",
       "      <td>19e2e</td>\n",
       "      <td>19e2e</td>\n",
       "      <td>ffa6759bb2</td>\n",
       "      <td>b47a998a3e</td>\n",
       "    </tr>\n",
       "    <tr>\n",
       "      <th>freq</th>\n",
       "      <td>2219</td>\n",
       "      <td>NaN</td>\n",
       "      <td>71</td>\n",
       "      <td>1252</td>\n",
       "      <td>63</td>\n",
       "      <td>807</td>\n",
       "      <td>5001</td>\n",
       "      <td>4026</td>\n",
       "      <td>716</td>\n",
       "      <td>64</td>\n",
       "    </tr>\n",
       "    <tr>\n",
       "      <th>mean</th>\n",
       "      <td>NaN</td>\n",
       "      <td>25.869626</td>\n",
       "      <td>NaN</td>\n",
       "      <td>NaN</td>\n",
       "      <td>NaN</td>\n",
       "      <td>NaN</td>\n",
       "      <td>NaN</td>\n",
       "      <td>NaN</td>\n",
       "      <td>NaN</td>\n",
       "      <td>NaN</td>\n",
       "    </tr>\n",
       "    <tr>\n",
       "      <th>std</th>\n",
       "      <td>NaN</td>\n",
       "      <td>101.934502</td>\n",
       "      <td>NaN</td>\n",
       "      <td>NaN</td>\n",
       "      <td>NaN</td>\n",
       "      <td>NaN</td>\n",
       "      <td>NaN</td>\n",
       "      <td>NaN</td>\n",
       "      <td>NaN</td>\n",
       "      <td>NaN</td>\n",
       "    </tr>\n",
       "    <tr>\n",
       "      <th>min</th>\n",
       "      <td>NaN</td>\n",
       "      <td>0.000000</td>\n",
       "      <td>NaN</td>\n",
       "      <td>NaN</td>\n",
       "      <td>NaN</td>\n",
       "      <td>NaN</td>\n",
       "      <td>NaN</td>\n",
       "      <td>NaN</td>\n",
       "      <td>NaN</td>\n",
       "      <td>NaN</td>\n",
       "    </tr>\n",
       "    <tr>\n",
       "      <th>25%</th>\n",
       "      <td>NaN</td>\n",
       "      <td>0.000000</td>\n",
       "      <td>NaN</td>\n",
       "      <td>NaN</td>\n",
       "      <td>NaN</td>\n",
       "      <td>NaN</td>\n",
       "      <td>NaN</td>\n",
       "      <td>NaN</td>\n",
       "      <td>NaN</td>\n",
       "      <td>NaN</td>\n",
       "    </tr>\n",
       "    <tr>\n",
       "      <th>50%</th>\n",
       "      <td>NaN</td>\n",
       "      <td>0.000000</td>\n",
       "      <td>NaN</td>\n",
       "      <td>NaN</td>\n",
       "      <td>NaN</td>\n",
       "      <td>NaN</td>\n",
       "      <td>NaN</td>\n",
       "      <td>NaN</td>\n",
       "      <td>NaN</td>\n",
       "      <td>NaN</td>\n",
       "    </tr>\n",
       "    <tr>\n",
       "      <th>75%</th>\n",
       "      <td>NaN</td>\n",
       "      <td>25.000000</td>\n",
       "      <td>NaN</td>\n",
       "      <td>NaN</td>\n",
       "      <td>NaN</td>\n",
       "      <td>NaN</td>\n",
       "      <td>NaN</td>\n",
       "      <td>NaN</td>\n",
       "      <td>NaN</td>\n",
       "      <td>NaN</td>\n",
       "    </tr>\n",
       "    <tr>\n",
       "      <th>max</th>\n",
       "      <td>NaN</td>\n",
       "      <td>4440.000000</td>\n",
       "      <td>NaN</td>\n",
       "      <td>NaN</td>\n",
       "      <td>NaN</td>\n",
       "      <td>NaN</td>\n",
       "      <td>NaN</td>\n",
       "      <td>NaN</td>\n",
       "      <td>NaN</td>\n",
       "      <td>NaN</td>\n",
       "    </tr>\n",
       "  </tbody>\n",
       "</table>\n",
       "</div>"
      ],
      "text/plain": [
       "       PRODUTC        VALUE               DATETIME CELL_ON_SITE  \\\n",
       "count     5001  5001.000000                   5001         5001   \n",
       "unique       3          NaN                    708            7   \n",
       "top      Voice          NaN  2012-05-07 00:00:10.0            1   \n",
       "freq      2219          NaN                     71         1252   \n",
       "mean       NaN    25.869626                    NaN          NaN   \n",
       "std        NaN   101.934502                    NaN          NaN   \n",
       "min        NaN     0.000000                    NaN          NaN   \n",
       "25%        NaN     0.000000                    NaN          NaN   \n",
       "50%        NaN     0.000000                    NaN          NaN   \n",
       "75%        NaN    25.000000                    NaN          NaN   \n",
       "max        NaN  4440.000000                    NaN          NaN   \n",
       "\n",
       "        DW_A_NUMBER_INT  DW_B_NUMBER_INT COUNTRY_A COUNTRY_B     CELL_ID  \\\n",
       "count              5001             5001      5001      5001        5001   \n",
       "unique             3903             2848         1         2        1790   \n",
       "top     4e49073a756df8c  5a4dc9e82deb309     19e2e     19e2e  ffa6759bb2   \n",
       "freq                 63              807      5001      4026         716   \n",
       "mean                NaN              NaN       NaN       NaN         NaN   \n",
       "std                 NaN              NaN       NaN       NaN         NaN   \n",
       "min                 NaN              NaN       NaN       NaN         NaN   \n",
       "25%                 NaN              NaN       NaN       NaN         NaN   \n",
       "50%                 NaN              NaN       NaN       NaN         NaN   \n",
       "75%                 NaN              NaN       NaN       NaN         NaN   \n",
       "max                 NaN              NaN       NaN       NaN         NaN   \n",
       "\n",
       "           SITE_ID  \n",
       "count         4285  \n",
       "unique        1076  \n",
       "top     b47a998a3e  \n",
       "freq            64  \n",
       "mean           NaN  \n",
       "std            NaN  \n",
       "min            NaN  \n",
       "25%            NaN  \n",
       "50%            NaN  \n",
       "75%            NaN  \n",
       "max            NaN  "
      ]
     },
     "execution_count": 26,
     "metadata": {},
     "output_type": "execute_result"
    }
   ],
   "source": [
    "day1.describe(include=\"all\")"
   ]
  },
  {
   "cell_type": "markdown",
   "id": "d6b29a4b",
   "metadata": {},
   "source": [
    "- There are outliers in the value column. The mean is 25.869626\tbut the minimum value is 0 and the 75th percentile is 25 yet the maximum value is 4440"
   ]
  },
  {
   "cell_type": "code",
   "execution_count": 27,
   "id": "199e1f5e",
   "metadata": {
    "scrolled": false
   },
   "outputs": [
    {
     "name": "stdout",
     "output_type": "stream",
     "text": [
      "<class 'pandas.core.frame.DataFrame'>\n",
      "RangeIndex: 5001 entries, 0 to 5000\n",
      "Data columns (total 10 columns):\n",
      " #   Column           Non-Null Count  Dtype \n",
      "---  ------           --------------  ----- \n",
      " 0   PRODUTC          5001 non-null   object\n",
      " 1   VALUE            5001 non-null   int64 \n",
      " 2   DATETIME         5001 non-null   object\n",
      " 3   CELL_ON_SITE     5001 non-null   object\n",
      " 4   DW_A_NUMBER_INT  5001 non-null   object\n",
      " 5   DW_B_NUMBER_INT  5001 non-null   object\n",
      " 6   COUNTRY_A        5001 non-null   object\n",
      " 7   COUNTRY_B        5001 non-null   object\n",
      " 8   CELL_ID          5001 non-null   object\n",
      " 9   SITE_ID          4285 non-null   object\n",
      "dtypes: int64(1), object(9)\n",
      "memory usage: 390.8+ KB\n"
     ]
    }
   ],
   "source": [
    "day1.info()"
   ]
  },
  {
   "cell_type": "code",
   "execution_count": 28,
   "id": "6218e5a4",
   "metadata": {
    "scrolled": true
   },
   "outputs": [
    {
     "data": {
      "text/plain": [
       "PRODUTC            False\n",
       "VALUE              False\n",
       "DATETIME           False\n",
       "CELL_ON_SITE       False\n",
       "DW_A_NUMBER_INT    False\n",
       "DW_B_NUMBER_INT    False\n",
       "COUNTRY_A          False\n",
       "COUNTRY_B          False\n",
       "CELL_ID            False\n",
       "SITE_ID             True\n",
       "dtype: bool"
      ]
     },
     "execution_count": 28,
     "metadata": {},
     "output_type": "execute_result"
    }
   ],
   "source": [
    "day1.isnull().any()"
   ]
  },
  {
   "cell_type": "code",
   "execution_count": 29,
   "id": "4499461c",
   "metadata": {},
   "outputs": [
    {
     "data": {
      "text/plain": [
       "PRODUTC              0\n",
       "VALUE                0\n",
       "DATETIME             0\n",
       "CELL_ON_SITE         0\n",
       "DW_A_NUMBER_INT      0\n",
       "DW_B_NUMBER_INT      0\n",
       "COUNTRY_A            0\n",
       "COUNTRY_B            0\n",
       "CELL_ID              0\n",
       "SITE_ID            716\n",
       "dtype: int64"
      ]
     },
     "execution_count": 29,
     "metadata": {},
     "output_type": "execute_result"
    }
   ],
   "source": [
    "day1.isnull().sum()"
   ]
  },
  {
   "cell_type": "markdown",
   "id": "9ea2a2a7",
   "metadata": {},
   "source": [
    "- There are 716 null values in the site ID column\n",
    "\n",
    "\n",
    "**Renaming column 1**"
   ]
  },
  {
   "cell_type": "code",
   "execution_count": 30,
   "id": "cf324e38",
   "metadata": {},
   "outputs": [],
   "source": [
    "day1.rename(columns={\"PRODUTC\":\"PRODUCT\"},inplace=True)"
   ]
  },
  {
   "cell_type": "code",
   "execution_count": 31,
   "id": "ac5653ef",
   "metadata": {
    "scrolled": false
   },
   "outputs": [
    {
     "data": {
      "text/html": [
       "<div>\n",
       "<style scoped>\n",
       "    .dataframe tbody tr th:only-of-type {\n",
       "        vertical-align: middle;\n",
       "    }\n",
       "\n",
       "    .dataframe tbody tr th {\n",
       "        vertical-align: top;\n",
       "    }\n",
       "\n",
       "    .dataframe thead th {\n",
       "        text-align: right;\n",
       "    }\n",
       "</style>\n",
       "<table border=\"1\" class=\"dataframe\">\n",
       "  <thead>\n",
       "    <tr style=\"text-align: right;\">\n",
       "      <th></th>\n",
       "      <th>PRODUCT</th>\n",
       "      <th>VALUE</th>\n",
       "      <th>DATETIME</th>\n",
       "      <th>CELL_ON_SITE</th>\n",
       "      <th>DW_A_NUMBER_INT</th>\n",
       "      <th>DW_B_NUMBER_INT</th>\n",
       "      <th>COUNTRY_A</th>\n",
       "      <th>COUNTRY_B</th>\n",
       "      <th>CELL_ID</th>\n",
       "      <th>SITE_ID</th>\n",
       "    </tr>\n",
       "  </thead>\n",
       "  <tbody>\n",
       "    <tr>\n",
       "      <th>0</th>\n",
       "      <td>Voice</td>\n",
       "      <td>0</td>\n",
       "      <td>2012-05-06 23:04:37.0</td>\n",
       "      <td>1</td>\n",
       "      <td>49fae048b547780</td>\n",
       "      <td>1a49f8b0ded9de6</td>\n",
       "      <td>19e2e</td>\n",
       "      <td>19e2e</td>\n",
       "      <td>/TJNe+Mmtu</td>\n",
       "      <td>/TJNe+Mmtu</td>\n",
       "    </tr>\n",
       "    <tr>\n",
       "      <th>1</th>\n",
       "      <td>sms</td>\n",
       "      <td>0</td>\n",
       "      <td>2012-05-06 23:05:25.0</td>\n",
       "      <td>0</td>\n",
       "      <td>7a54a6eaee19e65</td>\n",
       "      <td>93343ba6e41af95</td>\n",
       "      <td>19e2e</td>\n",
       "      <td>19e2e</td>\n",
       "      <td>/+cKZKIp41</td>\n",
       "      <td>/+cKZKIp41</td>\n",
       "    </tr>\n",
       "    <tr>\n",
       "      <th>2</th>\n",
       "      <td>sms</td>\n",
       "      <td>25</td>\n",
       "      <td>2012-05-06 23:05:41.0</td>\n",
       "      <td>0</td>\n",
       "      <td>6008887b0207d82</td>\n",
       "      <td>7aacc9709ce0a20</td>\n",
       "      <td>19e2e</td>\n",
       "      <td>19e2e</td>\n",
       "      <td>/u0FSD+ahi</td>\n",
       "      <td>/u0FSD+ahi</td>\n",
       "    </tr>\n",
       "    <tr>\n",
       "      <th>3</th>\n",
       "      <td>Voice</td>\n",
       "      <td>56</td>\n",
       "      <td>2012-05-06 23:05:42.0</td>\n",
       "      <td>1</td>\n",
       "      <td>7370032e20f4e96</td>\n",
       "      <td>6af4a60e74c91d3</td>\n",
       "      <td>19e2e</td>\n",
       "      <td>19e2e</td>\n",
       "      <td>+cNeJzsTp3</td>\n",
       "      <td>+cNeJzsTp3</td>\n",
       "    </tr>\n",
       "    <tr>\n",
       "      <th>4</th>\n",
       "      <td>Voice</td>\n",
       "      <td>14</td>\n",
       "      <td>2012-05-06 23:06:29.0</td>\n",
       "      <td>1</td>\n",
       "      <td>966ba4656e38e62</td>\n",
       "      <td>02aa736ee555d5c</td>\n",
       "      <td>19e2e</td>\n",
       "      <td>19e2e</td>\n",
       "      <td>051KhYDCpv</td>\n",
       "      <td>051KhYDCpv</td>\n",
       "    </tr>\n",
       "  </tbody>\n",
       "</table>\n",
       "</div>"
      ],
      "text/plain": [
       "  PRODUCT  VALUE               DATETIME CELL_ON_SITE  DW_A_NUMBER_INT  \\\n",
       "0   Voice      0  2012-05-06 23:04:37.0            1  49fae048b547780   \n",
       "1     sms      0  2012-05-06 23:05:25.0            0  7a54a6eaee19e65   \n",
       "2     sms     25  2012-05-06 23:05:41.0            0  6008887b0207d82   \n",
       "3   Voice     56  2012-05-06 23:05:42.0            1  7370032e20f4e96   \n",
       "4   Voice     14  2012-05-06 23:06:29.0            1  966ba4656e38e62   \n",
       "\n",
       "   DW_B_NUMBER_INT COUNTRY_A COUNTRY_B     CELL_ID     SITE_ID  \n",
       "0  1a49f8b0ded9de6     19e2e     19e2e  /TJNe+Mmtu  /TJNe+Mmtu  \n",
       "1  93343ba6e41af95     19e2e     19e2e  /+cKZKIp41  /+cKZKIp41  \n",
       "2  7aacc9709ce0a20     19e2e     19e2e  /u0FSD+ahi  /u0FSD+ahi  \n",
       "3  6af4a60e74c91d3     19e2e     19e2e  +cNeJzsTp3  +cNeJzsTp3  \n",
       "4  02aa736ee555d5c     19e2e     19e2e  051KhYDCpv  051KhYDCpv  "
      ]
     },
     "execution_count": 31,
     "metadata": {},
     "output_type": "execute_result"
    }
   ],
   "source": [
    "day1.head()"
   ]
  },
  {
   "cell_type": "markdown",
   "id": "52b9c57b",
   "metadata": {},
   "source": [
    "#### Changing the datetime column from string to datetime format, and introducing hour column"
   ]
  },
  {
   "cell_type": "code",
   "execution_count": 32,
   "id": "75a11737",
   "metadata": {},
   "outputs": [],
   "source": [
    "import datetime"
   ]
  },
  {
   "cell_type": "code",
   "execution_count": 33,
   "id": "f95e5163",
   "metadata": {},
   "outputs": [],
   "source": [
    "day1[\"DATETIME\"]=pd.to_datetime(day1[\"DATETIME\"]).dt.to_period(\"d\")"
   ]
  },
  {
   "cell_type": "code",
   "execution_count": 35,
   "id": "2be1b26e",
   "metadata": {},
   "outputs": [
    {
     "ename": "TypeError",
     "evalue": "Passing PeriodDtype data is invalid. Use `data.to_timestamp()` instead",
     "output_type": "error",
     "traceback": [
      "\u001b[1;31m---------------------------------------------------------------------------\u001b[0m",
      "\u001b[1;31mTypeError\u001b[0m                                 Traceback (most recent call last)",
      "\u001b[1;32m<ipython-input-35-34dec73f04de>\u001b[0m in \u001b[0;36m<module>\u001b[1;34m\u001b[0m\n\u001b[1;32m----> 1\u001b[1;33m \u001b[0mday1\u001b[0m\u001b[1;33m[\u001b[0m\u001b[1;34m\"DATETIME\"\u001b[0m\u001b[1;33m]\u001b[0m\u001b[1;33m=\u001b[0m\u001b[0mpd\u001b[0m\u001b[1;33m.\u001b[0m\u001b[0mto_datetime\u001b[0m\u001b[1;33m(\u001b[0m\u001b[0mday1\u001b[0m\u001b[1;33m[\u001b[0m\u001b[1;34m\"DATETIME\"\u001b[0m\u001b[1;33m]\u001b[0m\u001b[1;33m)\u001b[0m\u001b[1;33m.\u001b[0m\u001b[0mastype\u001b[0m\u001b[1;33m(\u001b[0m\u001b[0mstr\u001b[0m\u001b[1;33m)\u001b[0m\u001b[1;33m\u001b[0m\u001b[1;33m\u001b[0m\u001b[0m\n\u001b[0m",
      "\u001b[1;32m~\\Anaconda3\\lib\\site-packages\\pandas\\core\\tools\\datetimes.py\u001b[0m in \u001b[0;36mto_datetime\u001b[1;34m(arg, errors, dayfirst, yearfirst, utc, format, exact, unit, infer_datetime_format, origin, cache)\u001b[0m\n\u001b[0;32m    799\u001b[0m                 \u001b[0mresult\u001b[0m \u001b[1;33m=\u001b[0m \u001b[0mresult\u001b[0m\u001b[1;33m.\u001b[0m\u001b[0mtz_localize\u001b[0m\u001b[1;33m(\u001b[0m\u001b[0mtz\u001b[0m\u001b[1;33m)\u001b[0m\u001b[1;33m\u001b[0m\u001b[1;33m\u001b[0m\u001b[0m\n\u001b[0;32m    800\u001b[0m     \u001b[1;32melif\u001b[0m \u001b[0misinstance\u001b[0m\u001b[1;33m(\u001b[0m\u001b[0marg\u001b[0m\u001b[1;33m,\u001b[0m \u001b[0mABCSeries\u001b[0m\u001b[1;33m)\u001b[0m\u001b[1;33m:\u001b[0m\u001b[1;33m\u001b[0m\u001b[1;33m\u001b[0m\u001b[0m\n\u001b[1;32m--> 801\u001b[1;33m         \u001b[0mcache_array\u001b[0m \u001b[1;33m=\u001b[0m \u001b[0m_maybe_cache\u001b[0m\u001b[1;33m(\u001b[0m\u001b[0marg\u001b[0m\u001b[1;33m,\u001b[0m \u001b[0mformat\u001b[0m\u001b[1;33m,\u001b[0m \u001b[0mcache\u001b[0m\u001b[1;33m,\u001b[0m \u001b[0mconvert_listlike\u001b[0m\u001b[1;33m)\u001b[0m\u001b[1;33m\u001b[0m\u001b[1;33m\u001b[0m\u001b[0m\n\u001b[0m\u001b[0;32m    802\u001b[0m         \u001b[1;32mif\u001b[0m \u001b[1;32mnot\u001b[0m \u001b[0mcache_array\u001b[0m\u001b[1;33m.\u001b[0m\u001b[0mempty\u001b[0m\u001b[1;33m:\u001b[0m\u001b[1;33m\u001b[0m\u001b[1;33m\u001b[0m\u001b[0m\n\u001b[0;32m    803\u001b[0m             \u001b[0mresult\u001b[0m \u001b[1;33m=\u001b[0m \u001b[0marg\u001b[0m\u001b[1;33m.\u001b[0m\u001b[0mmap\u001b[0m\u001b[1;33m(\u001b[0m\u001b[0mcache_array\u001b[0m\u001b[1;33m)\u001b[0m\u001b[1;33m\u001b[0m\u001b[1;33m\u001b[0m\u001b[0m\n",
      "\u001b[1;32m~\\Anaconda3\\lib\\site-packages\\pandas\\core\\tools\\datetimes.py\u001b[0m in \u001b[0;36m_maybe_cache\u001b[1;34m(arg, format, cache, convert_listlike)\u001b[0m\n\u001b[0;32m    176\u001b[0m         \u001b[0munique_dates\u001b[0m \u001b[1;33m=\u001b[0m \u001b[0munique\u001b[0m\u001b[1;33m(\u001b[0m\u001b[0marg\u001b[0m\u001b[1;33m)\u001b[0m\u001b[1;33m\u001b[0m\u001b[1;33m\u001b[0m\u001b[0m\n\u001b[0;32m    177\u001b[0m         \u001b[1;32mif\u001b[0m \u001b[0mlen\u001b[0m\u001b[1;33m(\u001b[0m\u001b[0munique_dates\u001b[0m\u001b[1;33m)\u001b[0m \u001b[1;33m<\u001b[0m \u001b[0mlen\u001b[0m\u001b[1;33m(\u001b[0m\u001b[0marg\u001b[0m\u001b[1;33m)\u001b[0m\u001b[1;33m:\u001b[0m\u001b[1;33m\u001b[0m\u001b[1;33m\u001b[0m\u001b[0m\n\u001b[1;32m--> 178\u001b[1;33m             \u001b[0mcache_dates\u001b[0m \u001b[1;33m=\u001b[0m \u001b[0mconvert_listlike\u001b[0m\u001b[1;33m(\u001b[0m\u001b[0munique_dates\u001b[0m\u001b[1;33m,\u001b[0m \u001b[0mformat\u001b[0m\u001b[1;33m)\u001b[0m\u001b[1;33m\u001b[0m\u001b[1;33m\u001b[0m\u001b[0m\n\u001b[0m\u001b[0;32m    179\u001b[0m             \u001b[0mcache_array\u001b[0m \u001b[1;33m=\u001b[0m \u001b[0mSeries\u001b[0m\u001b[1;33m(\u001b[0m\u001b[0mcache_dates\u001b[0m\u001b[1;33m,\u001b[0m \u001b[0mindex\u001b[0m\u001b[1;33m=\u001b[0m\u001b[0munique_dates\u001b[0m\u001b[1;33m)\u001b[0m\u001b[1;33m\u001b[0m\u001b[1;33m\u001b[0m\u001b[0m\n\u001b[0;32m    180\u001b[0m     \u001b[1;32mreturn\u001b[0m \u001b[0mcache_array\u001b[0m\u001b[1;33m\u001b[0m\u001b[1;33m\u001b[0m\u001b[0m\n",
      "\u001b[1;32m~\\Anaconda3\\lib\\site-packages\\pandas\\core\\tools\\datetimes.py\u001b[0m in \u001b[0;36m_convert_listlike_datetimes\u001b[1;34m(arg, format, name, tz, unit, errors, infer_datetime_format, dayfirst, yearfirst, exact)\u001b[0m\n\u001b[0;32m    375\u001b[0m     \u001b[0morig_arg\u001b[0m \u001b[1;33m=\u001b[0m \u001b[0marg\u001b[0m\u001b[1;33m\u001b[0m\u001b[1;33m\u001b[0m\u001b[0m\n\u001b[0;32m    376\u001b[0m     \u001b[1;32mtry\u001b[0m\u001b[1;33m:\u001b[0m\u001b[1;33m\u001b[0m\u001b[1;33m\u001b[0m\u001b[0m\n\u001b[1;32m--> 377\u001b[1;33m         \u001b[0marg\u001b[0m\u001b[1;33m,\u001b[0m \u001b[0m_\u001b[0m \u001b[1;33m=\u001b[0m \u001b[0mmaybe_convert_dtype\u001b[0m\u001b[1;33m(\u001b[0m\u001b[0marg\u001b[0m\u001b[1;33m,\u001b[0m \u001b[0mcopy\u001b[0m\u001b[1;33m=\u001b[0m\u001b[1;32mFalse\u001b[0m\u001b[1;33m)\u001b[0m\u001b[1;33m\u001b[0m\u001b[1;33m\u001b[0m\u001b[0m\n\u001b[0m\u001b[0;32m    378\u001b[0m     \u001b[1;32mexcept\u001b[0m \u001b[0mTypeError\u001b[0m\u001b[1;33m:\u001b[0m\u001b[1;33m\u001b[0m\u001b[1;33m\u001b[0m\u001b[0m\n\u001b[0;32m    379\u001b[0m         \u001b[1;32mif\u001b[0m \u001b[0merrors\u001b[0m \u001b[1;33m==\u001b[0m \u001b[1;34m\"coerce\"\u001b[0m\u001b[1;33m:\u001b[0m\u001b[1;33m\u001b[0m\u001b[1;33m\u001b[0m\u001b[0m\n",
      "\u001b[1;32m~\\Anaconda3\\lib\\site-packages\\pandas\\core\\arrays\\datetimes.py\u001b[0m in \u001b[0;36mmaybe_convert_dtype\u001b[1;34m(data, copy)\u001b[0m\n\u001b[0;32m   2151\u001b[0m         \u001b[1;31m# Note: without explicitly raising here, PeriodIndex\u001b[0m\u001b[1;33m\u001b[0m\u001b[1;33m\u001b[0m\u001b[1;33m\u001b[0m\u001b[0m\n\u001b[0;32m   2152\u001b[0m         \u001b[1;31m#  test_setops.test_join_does_not_recur fails\u001b[0m\u001b[1;33m\u001b[0m\u001b[1;33m\u001b[0m\u001b[1;33m\u001b[0m\u001b[0m\n\u001b[1;32m-> 2153\u001b[1;33m         raise TypeError(\n\u001b[0m\u001b[0;32m   2154\u001b[0m             \u001b[1;34m\"Passing PeriodDtype data is invalid. Use `data.to_timestamp()` instead\"\u001b[0m\u001b[1;33m\u001b[0m\u001b[1;33m\u001b[0m\u001b[0m\n\u001b[0;32m   2155\u001b[0m         )\n",
      "\u001b[1;31mTypeError\u001b[0m: Passing PeriodDtype data is invalid. Use `data.to_timestamp()` instead"
     ]
    }
   ],
   "source": [
    "day1[\"DATETIME\"]=pd.to_datetime(day1[\"DATETIME\"]).astype(str)"
   ]
  },
  {
   "cell_type": "code",
   "execution_count": null,
   "id": "5ba1b72e",
   "metadata": {},
   "outputs": [],
   "source": [
    "day1[\"DATETIME\"]=pd.to_datetime(day1[\"DATETIME\"],dayfirst=True)"
   ]
  },
  {
   "cell_type": "code",
   "execution_count": null,
   "id": "e56740db",
   "metadata": {},
   "outputs": [],
   "source": [
    "def hr_function(ts):\n",
    "    return ts.hour"
   ]
  },
  {
   "cell_type": "code",
   "execution_count": null,
   "id": "b5acb1fe",
   "metadata": {},
   "outputs": [],
   "source": [
    "day1[\"Hour\"]=day1[\"DATETIME\"].apply(hr_function)"
   ]
  },
  {
   "cell_type": "markdown",
   "id": "5611d68c",
   "metadata": {},
   "source": [
    "##### Day 2"
   ]
  },
  {
   "cell_type": "code",
   "execution_count": null,
   "id": "f611cbbc",
   "metadata": {
    "scrolled": true
   },
   "outputs": [],
   "source": [
    "day2.describe(include=\"all\")"
   ]
  },
  {
   "cell_type": "markdown",
   "id": "33e69116",
   "metadata": {},
   "source": [
    "- There are outliers in the value column. The mean is 24.334933\tbut the minimum value is 0 and the 75th percentile is 25, yet the maximum value is 3380.\n",
    "\n",
    "- There are null values in the site ID column"
   ]
  },
  {
   "cell_type": "code",
   "execution_count": null,
   "id": "a619628a",
   "metadata": {},
   "outputs": [],
   "source": [
    "day2[\"DATETIME\"]=pd.to_datetime(day1[\"DATETIME\"]).dt.to_period(\"d\")"
   ]
  },
  {
   "cell_type": "code",
   "execution_count": null,
   "id": "3ac0b68d",
   "metadata": {},
   "outputs": [],
   "source": [
    "day2[\"DATETIME\"]=pd.to_datetime(day1[\"DATETIME\"]).astype(str)"
   ]
  },
  {
   "cell_type": "code",
   "execution_count": null,
   "id": "81ddf332",
   "metadata": {},
   "outputs": [],
   "source": [
    "day2[\"DATETIME\"]=pd.to_datetime(day1[\"DATETIME\"],dayfirst=True)"
   ]
  },
  {
   "cell_type": "code",
   "execution_count": null,
   "id": "5125fdae",
   "metadata": {},
   "outputs": [],
   "source": [
    "day2[\"Hour\"]=day1[\"DATETIME\"].apply(hr_function)"
   ]
  },
  {
   "cell_type": "markdown",
   "id": "5a5e4d71",
   "metadata": {},
   "source": [
    "##### Day 3"
   ]
  },
  {
   "cell_type": "code",
   "execution_count": null,
   "id": "1294a27c",
   "metadata": {},
   "outputs": [],
   "source": [
    "day3.describe(include=\"all\")"
   ]
  },
  {
   "cell_type": "markdown",
   "id": "8895aa92",
   "metadata": {},
   "source": [
    "- There are outliers in the value column. The mean is 26.441512\tbut the minimum value is 0 and the 75th percentile is 25, yet the maximum value is 12900.\n",
    "\n",
    "- There are null values in the site ID column\n",
    "\n",
    "\n",
    "**Renaming the last column**"
   ]
  },
  {
   "cell_type": "code",
   "execution_count": null,
   "id": "2264bdb7",
   "metadata": {},
   "outputs": [],
   "source": [
    "day1.rename(columns={\"SIET_ID\":\"SITE_ID\"},inplace=True)"
   ]
  },
  {
   "cell_type": "code",
   "execution_count": null,
   "id": "c81c31a8",
   "metadata": {},
   "outputs": [],
   "source": [
    "day3[\"DATETIME\"]=pd.to_datetime(day1[\"DATETIME\"]).dt.to_period(\"d\")"
   ]
  },
  {
   "cell_type": "code",
   "execution_count": null,
   "id": "0391bd46",
   "metadata": {},
   "outputs": [],
   "source": [
    "day3[\"DATETIME\"]=pd.to_datetime(day1[\"DATETIME\"]).astype(str)"
   ]
  },
  {
   "cell_type": "code",
   "execution_count": null,
   "id": "61641934",
   "metadata": {},
   "outputs": [],
   "source": [
    "day3[\"DATETIME\"]=pd.to_datetime(day1[\"DATETIME\"],dayfirst=True)"
   ]
  },
  {
   "cell_type": "code",
   "execution_count": null,
   "id": "b6366d62",
   "metadata": {},
   "outputs": [],
   "source": [
    "day3[\"Hour\"]=day1[\"DATETIME\"].apply(hr_function)"
   ]
  },
  {
   "cell_type": "markdown",
   "id": "1fdc9305",
   "metadata": {},
   "source": [
    "#### More exploration\n",
    "\n",
    "**_Average billing price per day_**"
   ]
  },
  {
   "cell_type": "code",
   "execution_count": null,
   "id": "34fc4eca",
   "metadata": {},
   "outputs": [],
   "source": [
    "day1.groupby(\"PRODUCT\")[\"VALUE\"].mean()"
   ]
  },
  {
   "cell_type": "code",
   "execution_count": null,
   "id": "11735244",
   "metadata": {
    "scrolled": true
   },
   "outputs": [],
   "source": [
    "day2.groupby(\"PRODUCT\")[\"VALUE\"].mean()"
   ]
  },
  {
   "cell_type": "code",
   "execution_count": null,
   "id": "8b13d3e0",
   "metadata": {
    "scrolled": false
   },
   "outputs": [],
   "source": [
    "day3.groupby(\"PRODUCT\")[\"VALUE\"].mean()"
   ]
  },
  {
   "cell_type": "markdown",
   "id": "2e386217",
   "metadata": {},
   "source": [
    "**_Total billing price per day_**"
   ]
  },
  {
   "cell_type": "code",
   "execution_count": null,
   "id": "f5bef9ed",
   "metadata": {},
   "outputs": [],
   "source": [
    "day1.groupby(\"PRODUCT\")[\"VALUE\"].sum()"
   ]
  },
  {
   "cell_type": "code",
   "execution_count": null,
   "id": "6c11cdb5",
   "metadata": {},
   "outputs": [],
   "source": [
    "day2.groupby(\"PRODUCT\")[\"VALUE\"].sum()"
   ]
  },
  {
   "cell_type": "code",
   "execution_count": null,
   "id": "c2a7482a",
   "metadata": {},
   "outputs": [],
   "source": [
    "day3.groupby(\"PRODUCT\")[\"VALUE\"].sum()"
   ]
  },
  {
   "cell_type": "markdown",
   "id": "d68c0ccc",
   "metadata": {},
   "source": [
    "#### Joining the dataframes"
   ]
  },
  {
   "cell_type": "code",
   "execution_count": null,
   "id": "d63344a0",
   "metadata": {},
   "outputs": [],
   "source": [
    "frames=[day1,day2,day3]\n",
    "all_days=pd.concat(frames,ignore_index=True)"
   ]
  },
  {
   "cell_type": "code",
   "execution_count": null,
   "id": "18745d22",
   "metadata": {},
   "outputs": [],
   "source": []
  },
  {
   "cell_type": "code",
   "execution_count": null,
   "id": "016d11bd",
   "metadata": {},
   "outputs": [],
   "source": []
  }
 ],
 "metadata": {
  "kernelspec": {
   "display_name": "Python 3",
   "language": "python",
   "name": "python3"
  },
  "language_info": {
   "codemirror_mode": {
    "name": "ipython",
    "version": 3
   },
   "file_extension": ".py",
   "mimetype": "text/x-python",
   "name": "python",
   "nbconvert_exporter": "python",
   "pygments_lexer": "ipython3",
   "version": "3.8.8"
  }
 },
 "nbformat": 4,
 "nbformat_minor": 5
}
